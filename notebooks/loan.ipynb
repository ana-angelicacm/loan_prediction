{
 "cells": [
  {
   "cell_type": "markdown",
   "id": "bc70d704",
   "metadata": {},
   "source": [
    "# PREVISÃO DE EMPRÉSTIMO"
   ]
  },
  {
   "cell_type": "markdown",
   "id": "6219c36c",
   "metadata": {
    "heading_collapsed": true
   },
   "source": [
    "## <font color = \"#C71585\">PROBLEMA</font>"
   ]
  },
  {
   "cell_type": "markdown",
   "id": "d62ed049",
   "metadata": {
    "hidden": true
   },
   "source": [
    "A empresa Dream Housing Finance lida com todos os tipos de empréstimos à habitação. Estão presentes em todas as áreas urbanas, semi-urbanas e rurais. O cliente primeiro solicita o empréstimo à habitação e, em seguida, esta empresa valida a elegibilidade do cliente para o empréstimo. Atualmente, a avaliação do crédito é feita com base no histórico de crédito do cliente, o que corresponde a um modelo cuja precisão é de 74,1%.\n",
    "\n",
    "A empresa deseja automatizar o processo de elegibilidade do empréstimo (em tempo real) com base nos detalhes do cliente fornecidos ao preencher o formulário de inscrição on-line. Esses detalhes são Gênero, Estado Civil, Educação, Número de Dependentes, Renda, Valor do Empréstimo, Histórico de Crédito e outros. Para automatizar esse processo, eles forneceram um conjunto de dados para identificar segmentos de clientes qualificados para o valor do empréstimo, para que possam direcionar especificamente esses clientes.\n",
    "\n",
    "*Observação: Taxa de juros fixada em 1,2% ao mês.*"
   ]
  },
  {
   "cell_type": "markdown",
   "id": "8bbbbece",
   "metadata": {
    "heading_collapsed": true
   },
   "source": [
    "## <font color = \"#C71585\">PLANEJAMENTO DA SOLUÇÃO</font>"
   ]
  },
  {
   "cell_type": "markdown",
   "id": "57b4db67",
   "metadata": {
    "hidden": true
   },
   "source": [
    "***Entrada:***\n",
    "\n",
    "Utilizando uma base de dados contendo cerca de 600 solicitações de empréstimo, contendo dados do cliente e se o empréstimo foi aprovado ou não."
   ]
  },
  {
   "cell_type": "markdown",
   "id": "be6e99a8",
   "metadata": {
    "hidden": true
   },
   "source": [
    "***Saída:***\n",
    "\n",
    "Um modelo que automatize o processo de elegibilidade do empréstimo e que tenha uma precisão superior ao modelo utilizado atualmente (74.1%)."
   ]
  },
  {
   "cell_type": "markdown",
   "id": "faa9e6c9",
   "metadata": {
    "hidden": true
   },
   "source": [
    "***Tarefas:***\n",
    "\n",
    "1. Coleta de dados;\n",
    "2. Limpeza dos dados;\n",
    "3. Análise exploratória dos dados;\n",
    "4. Criação de variáveis;\n",
    "5. Preparação dos dados;\n",
    "6. Modelo;\n",
    "7. Avaliação do modelo;\n",
    "8. Avaliação do negócio;\n",
    "9. Implementação da solução em nuvem."
   ]
  },
  {
   "cell_type": "markdown",
   "id": "eea3b80b",
   "metadata": {},
   "source": [
    "## BIBLIOTECAS E CONFIGURAÇÕES"
   ]
  },
  {
   "cell_type": "code",
   "execution_count": 38,
   "id": "98910f92",
   "metadata": {
    "ExecuteTime": {
     "end_time": "2022-09-21T02:12:28.979262Z",
     "start_time": "2022-09-21T02:12:28.713693Z"
    }
   },
   "outputs": [],
   "source": [
    "import numpy                 as np\n",
    "import pandas                as pd\n",
    "import matplotlib.pyplot     as plt\n",
    "import seaborn               as sns\n",
    "\n",
    "from IPython.display         import Image\n",
    "from sklearn.model_selection import train_test_split\n",
    "from sklearn.tree            import DecisionTreeClassifier\n",
    "from sklearn.model_selection import cross_validate"
   ]
  },
  {
   "cell_type": "code",
   "execution_count": 2,
   "id": "bedf89a6",
   "metadata": {
    "ExecuteTime": {
     "end_time": "2022-09-21T01:38:38.993217Z",
     "start_time": "2022-09-21T01:38:38.980205Z"
    }
   },
   "outputs": [],
   "source": [
    "sns.set_style('whitegrid')"
   ]
  },
  {
   "cell_type": "markdown",
   "id": "56d5a54e",
   "metadata": {
    "heading_collapsed": true
   },
   "source": [
    "## FUNÇÕES"
   ]
  },
  {
   "cell_type": "code",
   "execution_count": 4,
   "id": "c6bd1f4e",
   "metadata": {
    "ExecuteTime": {
     "end_time": "2022-09-21T01:39:05.194518Z",
     "start_time": "2022-09-21T01:39:05.178532Z"
    },
    "hidden": true
   },
   "outputs": [],
   "source": [
    "# configura os eixos dos gráficos\n",
    "def axis_settings(x_label, y_label = ' ', fontsize = 12, x_rotation = 0, y_rotation = 0):\n",
    "    plt.xlabel(x_label, fontsize = fontsize)\n",
    "    plt.ylabel(y_label, fontsize = fontsize)\n",
    "    plt.xticks(fontsize = fontsize, rotation = x_rotation)\n",
    "    plt.yticks(fontsize = fontsize, rotation = y_rotation)"
   ]
  },
  {
   "cell_type": "markdown",
   "id": "b1c61d93",
   "metadata": {
    "heading_collapsed": true
   },
   "source": [
    "## 1. OBTENÇÃO DOS DADOS"
   ]
  },
  {
   "cell_type": "markdown",
   "id": "a3ba4ea1",
   "metadata": {
    "hidden": true
   },
   "source": [
    "O dados utilizados neste projetos podem ser encontrados neste [link](https://datahack.analyticsvidhya.com/contest/practice-problem-loan-prediction-iii/#ProblemStatement)."
   ]
  },
  {
   "cell_type": "code",
   "execution_count": 6,
   "id": "3249ff6a",
   "metadata": {
    "ExecuteTime": {
     "end_time": "2022-09-21T01:39:37.914711Z",
     "start_time": "2022-09-21T01:39:37.779622Z"
    },
    "hidden": true
   },
   "outputs": [],
   "source": [
    "df_raw = pd.read_csv('../dados/train.csv')"
   ]
  },
  {
   "cell_type": "markdown",
   "id": "38bbbb7d",
   "metadata": {
    "hidden": true
   },
   "source": [
    "### 1.1. Renomeação das colunas"
   ]
  },
  {
   "cell_type": "code",
   "execution_count": 7,
   "id": "aca503ab",
   "metadata": {
    "ExecuteTime": {
     "end_time": "2022-09-21T01:40:45.077071Z",
     "start_time": "2022-09-21T01:40:45.063052Z"
    },
    "hidden": true
   },
   "outputs": [],
   "source": [
    "df_raw.columns = ['id', 'gender', 'married', 'dependents', 'education', 'self_employed', 'applicant_income', \n",
    "                  'coapplicant_income', 'loan_amount','loan_amount_term', 'credit_history', 'property_area', 'loan_status']"
   ]
  },
  {
   "cell_type": "markdown",
   "id": "8a71b320",
   "metadata": {},
   "source": [
    "## 2. DESCRIÇÃO DOS DADOS"
   ]
  },
  {
   "cell_type": "markdown",
   "id": "a8ce020a",
   "metadata": {},
   "source": [
    "### 2.1. Informações básicas"
   ]
  },
  {
   "cell_type": "code",
   "execution_count": 8,
   "id": "0da930a5",
   "metadata": {
    "ExecuteTime": {
     "end_time": "2022-09-21T01:44:16.033214Z",
     "start_time": "2022-09-21T01:44:15.970196Z"
    }
   },
   "outputs": [
    {
     "name": "stdout",
     "output_type": "stream",
     "text": [
      "<class 'pandas.core.frame.DataFrame'>\n",
      "RangeIndex: 614 entries, 0 to 613\n",
      "Data columns (total 13 columns):\n",
      " #   Column              Non-Null Count  Dtype  \n",
      "---  ------              --------------  -----  \n",
      " 0   id                  614 non-null    object \n",
      " 1   gender              601 non-null    object \n",
      " 2   married             611 non-null    object \n",
      " 3   dependents          599 non-null    object \n",
      " 4   education           614 non-null    object \n",
      " 5   self_employed       582 non-null    object \n",
      " 6   applicant_income    614 non-null    int64  \n",
      " 7   coapplicant_income  614 non-null    float64\n",
      " 8   loan_amount         592 non-null    float64\n",
      " 9   loan_amount_term    600 non-null    float64\n",
      " 10  credit_history      564 non-null    float64\n",
      " 11  property_area       614 non-null    object \n",
      " 12  loan_status         614 non-null    object \n",
      "dtypes: float64(4), int64(1), object(8)\n",
      "memory usage: 62.5+ KB\n"
     ]
    }
   ],
   "source": [
    "df_raw.info()"
   ]
  },
  {
   "cell_type": "markdown",
   "id": "bc65e3bf",
   "metadata": {},
   "source": [
    "- Há doze variáveis independentes e uma variável alvo (`loan_status`);\n",
    "- O dataset contém 614 linhas;\n",
    "- Há sete variáveis com valores faltantes (`gender`, `married`, `dependents`, `self_employed`, `loan_amount`, `loan_amount_term` and `credit_history`)."
   ]
  },
  {
   "cell_type": "markdown",
   "id": "516b240a",
   "metadata": {},
   "source": [
    "## 3. LIMPEZA DOS DADOS"
   ]
  },
  {
   "cell_type": "code",
   "execution_count": 25,
   "id": "45cfc943",
   "metadata": {
    "ExecuteTime": {
     "end_time": "2022-09-21T01:57:16.435577Z",
     "start_time": "2022-09-21T01:57:16.412561Z"
    }
   },
   "outputs": [],
   "source": [
    "# exclui registros com dados faltantes\n",
    "df = df_raw.dropna().reset_index(drop = True)"
   ]
  },
  {
   "cell_type": "markdown",
   "id": "82a35009",
   "metadata": {},
   "source": [
    "## 4. CRIAÇÃO DE VARIÁVEIS"
   ]
  },
  {
   "cell_type": "markdown",
   "id": "536dc1f1",
   "metadata": {},
   "source": [
    "## 5. ANÁLISE EXPLORATÓRIA DOS DADOS (EDA)"
   ]
  },
  {
   "cell_type": "markdown",
   "id": "0eb0b828",
   "metadata": {},
   "source": [
    "## 6. PREPARAÇÃO DOS DADOS"
   ]
  },
  {
   "cell_type": "code",
   "execution_count": 26,
   "id": "c976e2c7",
   "metadata": {
    "ExecuteTime": {
     "end_time": "2022-09-21T01:57:18.819949Z",
     "start_time": "2022-09-21T01:57:18.701866Z"
    },
    "code_folding": []
   },
   "outputs": [],
   "source": [
    "# gender\n",
    "df.loc[:, 'gender'] = df['gender'].apply(lambda x: 1 if x == 'Female' else 0)\n",
    "\n",
    "# married\n",
    "df.loc[:, 'married'] = df['married'].apply(lambda x: 1 if x == 'Yes' else 0)\n",
    "\n",
    "# education\n",
    "df.loc[:, 'education'] = df['education'].apply(lambda x: 1 if x == 'Graduate' else 0)\n",
    "\n",
    "# self_employed\n",
    "df.loc[:, 'self_employed'] = df['self_employed'].apply(lambda x: 1 if x == 'Yes' else 0)\n",
    "\n",
    "# loan_status\n",
    "df.loc[:, 'loan_status'] = df['loan_status'].apply(lambda x: 1 if x == 'Y' else 0)\n",
    "\n",
    "# dependents\n",
    "df.loc[:, 'dependents'] = df['dependents'].apply(lambda x: 0 if x == '0' else\n",
    "                                                           1 if x == '1' else\n",
    "                                                           2 if x == '2' else 3)\n",
    "\n",
    "# property_area\n",
    "df.loc[:, 'property_area'] = df['property_area'].apply(lambda x: 0 if x == 'Rural' else\n",
    "                                                                 1 if x == 'Semiurban' else 2)"
   ]
  },
  {
   "cell_type": "markdown",
   "id": "558367ee",
   "metadata": {},
   "source": [
    "## 7. SELEÇÃO DE VARIÁVEIS"
   ]
  },
  {
   "cell_type": "markdown",
   "id": "c489b8f6",
   "metadata": {},
   "source": [
    "## 8. TREINAMENTO DO MODELO"
   ]
  },
  {
   "cell_type": "code",
   "execution_count": 37,
   "id": "60467def",
   "metadata": {
    "ExecuteTime": {
     "end_time": "2022-09-21T02:06:43.154979Z",
     "start_time": "2022-09-21T02:06:43.127960Z"
    }
   },
   "outputs": [],
   "source": [
    "# x e y\n",
    "x = df.drop(['id', 'loan_status'], axis = 1)\n",
    "y = df['loan_status']\n",
    "\n",
    "# divisão do dataset em treino e validação\n",
    "#x_train, x_valid, y_train, y_valid = train_test_split(x, y, test_size = 0.20, random_state = 42)"
   ]
  },
  {
   "cell_type": "markdown",
   "id": "c7fdb89d",
   "metadata": {},
   "source": [
    "### 8.1. Árvore de decisão"
   ]
  },
  {
   "cell_type": "code",
   "execution_count": 45,
   "id": "f7dcc03d",
   "metadata": {
    "ExecuteTime": {
     "end_time": "2022-09-21T02:18:32.390025Z",
     "start_time": "2022-09-21T02:18:31.994122Z"
    }
   },
   "outputs": [],
   "source": [
    "# modelo\n",
    "dt = DecisionTreeClassifier()\n",
    "\n",
    "# validação cruzada\n",
    "score = cross_validate(dt, x, y, cv = 10)"
   ]
  },
  {
   "cell_type": "markdown",
   "id": "d791a794",
   "metadata": {},
   "source": [
    "## 9. AVALIAÇÃO DO MODELO"
   ]
  },
  {
   "cell_type": "code",
   "execution_count": 46,
   "id": "9b5a2ee1",
   "metadata": {
    "ExecuteTime": {
     "end_time": "2022-09-21T02:18:34.003206Z",
     "start_time": "2022-09-21T02:18:33.988196Z"
    }
   },
   "outputs": [
    {
     "name": "stdout",
     "output_type": "stream",
     "text": [
      "Acurácia: 0.71 +/- 0.06\n"
     ]
    }
   ],
   "source": [
    "m = score['test_score'].mean() \n",
    "s = score['test_score'].std()\n",
    "\n",
    "print(f'Acurácia: {m:.2f} +/- {s:.2f}')"
   ]
  },
  {
   "cell_type": "markdown",
   "id": "05191980",
   "metadata": {},
   "source": [
    "## 10. HIPERPARÂMETROS FINE-TUNNING"
   ]
  },
  {
   "cell_type": "markdown",
   "id": "bc644607",
   "metadata": {},
   "source": [
    "## 11. AVALIAÇÃO DO NEGÓCIO"
   ]
  },
  {
   "cell_type": "markdown",
   "id": "a13eef33",
   "metadata": {},
   "source": [
    "## 12. IMPLEMENTAÇÃO DA SOLUÇÃO"
   ]
  }
 ],
 "metadata": {
  "kernelspec": {
   "display_name": "Python 3 (ipykernel)",
   "language": "python",
   "name": "python3"
  },
  "language_info": {
   "codemirror_mode": {
    "name": "ipython",
    "version": 3
   },
   "file_extension": ".py",
   "mimetype": "text/x-python",
   "name": "python",
   "nbconvert_exporter": "python",
   "pygments_lexer": "ipython3",
   "version": "3.10.5"
  }
 },
 "nbformat": 4,
 "nbformat_minor": 5
}
